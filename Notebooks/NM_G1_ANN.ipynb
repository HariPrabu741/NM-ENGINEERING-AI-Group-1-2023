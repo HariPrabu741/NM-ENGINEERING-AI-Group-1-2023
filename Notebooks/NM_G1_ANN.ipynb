{
  "nbformat": 4,
  "nbformat_minor": 0,
  "metadata": {
    "colab": {
      "provenance": []
    },
    "kernelspec": {
      "name": "python3",
      "display_name": "Python 3"
    },
    "language_info": {
      "name": "python"
    }
  },
  "cells": [
    {
      "cell_type": "code",
      "execution_count": 1,
      "metadata": {
        "id": "93A3DpADe4s_"
      },
      "outputs": [],
      "source": [
        "import numpy as np\n",
        "import pandas as pd"
      ]
    },
    {
      "cell_type": "code",
      "source": [
        "df = pd.read_csv('/content/50_Startups.csv')\n",
        "df.head()"
      ],
      "metadata": {
        "colab": {
          "base_uri": "https://localhost:8080/",
          "height": 206
        },
        "id": "1kqqW2scltbe",
        "outputId": "5547e218-ea3f-40c3-aaeb-f5ae815cbe95"
      },
      "execution_count": 2,
      "outputs": [
        {
          "output_type": "execute_result",
          "data": {
            "text/plain": [
              "   R&D Spend  Administration  Marketing Spend       State     Profit\n",
              "0  165349.20       136897.80        471784.10    New York  192261.83\n",
              "1  162597.70       151377.59        443898.53  California  191792.06\n",
              "2  153441.51       101145.55        407934.54     Florida  191050.39\n",
              "3  144372.41       118671.85        383199.62    New York  182901.99\n",
              "4  142107.34        91391.77        366168.42     Florida  166187.94"
            ],
            "text/html": [
              "\n",
              "  <div id=\"df-adf59f25-601c-46e6-9e04-23c38caf2510\">\n",
              "    <div class=\"colab-df-container\">\n",
              "      <div>\n",
              "<style scoped>\n",
              "    .dataframe tbody tr th:only-of-type {\n",
              "        vertical-align: middle;\n",
              "    }\n",
              "\n",
              "    .dataframe tbody tr th {\n",
              "        vertical-align: top;\n",
              "    }\n",
              "\n",
              "    .dataframe thead th {\n",
              "        text-align: right;\n",
              "    }\n",
              "</style>\n",
              "<table border=\"1\" class=\"dataframe\">\n",
              "  <thead>\n",
              "    <tr style=\"text-align: right;\">\n",
              "      <th></th>\n",
              "      <th>R&amp;D Spend</th>\n",
              "      <th>Administration</th>\n",
              "      <th>Marketing Spend</th>\n",
              "      <th>State</th>\n",
              "      <th>Profit</th>\n",
              "    </tr>\n",
              "  </thead>\n",
              "  <tbody>\n",
              "    <tr>\n",
              "      <th>0</th>\n",
              "      <td>165349.20</td>\n",
              "      <td>136897.80</td>\n",
              "      <td>471784.10</td>\n",
              "      <td>New York</td>\n",
              "      <td>192261.83</td>\n",
              "    </tr>\n",
              "    <tr>\n",
              "      <th>1</th>\n",
              "      <td>162597.70</td>\n",
              "      <td>151377.59</td>\n",
              "      <td>443898.53</td>\n",
              "      <td>California</td>\n",
              "      <td>191792.06</td>\n",
              "    </tr>\n",
              "    <tr>\n",
              "      <th>2</th>\n",
              "      <td>153441.51</td>\n",
              "      <td>101145.55</td>\n",
              "      <td>407934.54</td>\n",
              "      <td>Florida</td>\n",
              "      <td>191050.39</td>\n",
              "    </tr>\n",
              "    <tr>\n",
              "      <th>3</th>\n",
              "      <td>144372.41</td>\n",
              "      <td>118671.85</td>\n",
              "      <td>383199.62</td>\n",
              "      <td>New York</td>\n",
              "      <td>182901.99</td>\n",
              "    </tr>\n",
              "    <tr>\n",
              "      <th>4</th>\n",
              "      <td>142107.34</td>\n",
              "      <td>91391.77</td>\n",
              "      <td>366168.42</td>\n",
              "      <td>Florida</td>\n",
              "      <td>166187.94</td>\n",
              "    </tr>\n",
              "  </tbody>\n",
              "</table>\n",
              "</div>\n",
              "      <button class=\"colab-df-convert\" onclick=\"convertToInteractive('df-adf59f25-601c-46e6-9e04-23c38caf2510')\"\n",
              "              title=\"Convert this dataframe to an interactive table.\"\n",
              "              style=\"display:none;\">\n",
              "        \n",
              "  <svg xmlns=\"http://www.w3.org/2000/svg\" height=\"24px\"viewBox=\"0 0 24 24\"\n",
              "       width=\"24px\">\n",
              "    <path d=\"M0 0h24v24H0V0z\" fill=\"none\"/>\n",
              "    <path d=\"M18.56 5.44l.94 2.06.94-2.06 2.06-.94-2.06-.94-.94-2.06-.94 2.06-2.06.94zm-11 1L8.5 8.5l.94-2.06 2.06-.94-2.06-.94L8.5 2.5l-.94 2.06-2.06.94zm10 10l.94 2.06.94-2.06 2.06-.94-2.06-.94-.94-2.06-.94 2.06-2.06.94z\"/><path d=\"M17.41 7.96l-1.37-1.37c-.4-.4-.92-.59-1.43-.59-.52 0-1.04.2-1.43.59L10.3 9.45l-7.72 7.72c-.78.78-.78 2.05 0 2.83L4 21.41c.39.39.9.59 1.41.59.51 0 1.02-.2 1.41-.59l7.78-7.78 2.81-2.81c.8-.78.8-2.07 0-2.86zM5.41 20L4 18.59l7.72-7.72 1.47 1.35L5.41 20z\"/>\n",
              "  </svg>\n",
              "      </button>\n",
              "      \n",
              "  <style>\n",
              "    .colab-df-container {\n",
              "      display:flex;\n",
              "      flex-wrap:wrap;\n",
              "      gap: 12px;\n",
              "    }\n",
              "\n",
              "    .colab-df-convert {\n",
              "      background-color: #E8F0FE;\n",
              "      border: none;\n",
              "      border-radius: 50%;\n",
              "      cursor: pointer;\n",
              "      display: none;\n",
              "      fill: #1967D2;\n",
              "      height: 32px;\n",
              "      padding: 0 0 0 0;\n",
              "      width: 32px;\n",
              "    }\n",
              "\n",
              "    .colab-df-convert:hover {\n",
              "      background-color: #E2EBFA;\n",
              "      box-shadow: 0px 1px 2px rgba(60, 64, 67, 0.3), 0px 1px 3px 1px rgba(60, 64, 67, 0.15);\n",
              "      fill: #174EA6;\n",
              "    }\n",
              "\n",
              "    [theme=dark] .colab-df-convert {\n",
              "      background-color: #3B4455;\n",
              "      fill: #D2E3FC;\n",
              "    }\n",
              "\n",
              "    [theme=dark] .colab-df-convert:hover {\n",
              "      background-color: #434B5C;\n",
              "      box-shadow: 0px 1px 3px 1px rgba(0, 0, 0, 0.15);\n",
              "      filter: drop-shadow(0px 1px 2px rgba(0, 0, 0, 0.3));\n",
              "      fill: #FFFFFF;\n",
              "    }\n",
              "  </style>\n",
              "\n",
              "      <script>\n",
              "        const buttonEl =\n",
              "          document.querySelector('#df-adf59f25-601c-46e6-9e04-23c38caf2510 button.colab-df-convert');\n",
              "        buttonEl.style.display =\n",
              "          google.colab.kernel.accessAllowed ? 'block' : 'none';\n",
              "\n",
              "        async function convertToInteractive(key) {\n",
              "          const element = document.querySelector('#df-adf59f25-601c-46e6-9e04-23c38caf2510');\n",
              "          const dataTable =\n",
              "            await google.colab.kernel.invokeFunction('convertToInteractive',\n",
              "                                                     [key], {});\n",
              "          if (!dataTable) return;\n",
              "\n",
              "          const docLinkHtml = 'Like what you see? Visit the ' +\n",
              "            '<a target=\"_blank\" href=https://colab.research.google.com/notebooks/data_table.ipynb>data table notebook</a>'\n",
              "            + ' to learn more about interactive tables.';\n",
              "          element.innerHTML = '';\n",
              "          dataTable['output_type'] = 'display_data';\n",
              "          await google.colab.output.renderOutput(dataTable, element);\n",
              "          const docLink = document.createElement('div');\n",
              "          docLink.innerHTML = docLinkHtml;\n",
              "          element.appendChild(docLink);\n",
              "        }\n",
              "      </script>\n",
              "    </div>\n",
              "  </div>\n",
              "  "
            ]
          },
          "metadata": {},
          "execution_count": 2
        }
      ]
    },
    {
      "cell_type": "code",
      "source": [
        "df.info()"
      ],
      "metadata": {
        "colab": {
          "base_uri": "https://localhost:8080/"
        },
        "id": "lZIE7CCQl4rr",
        "outputId": "517281bc-da50-4174-e999-676c3ad86989"
      },
      "execution_count": 3,
      "outputs": [
        {
          "output_type": "stream",
          "name": "stdout",
          "text": [
            "<class 'pandas.core.frame.DataFrame'>\n",
            "RangeIndex: 108 entries, 0 to 107\n",
            "Data columns (total 5 columns):\n",
            " #   Column           Non-Null Count  Dtype  \n",
            "---  ------           --------------  -----  \n",
            " 0   R&D Spend        108 non-null    float64\n",
            " 1   Administration   108 non-null    float64\n",
            " 2   Marketing Spend  108 non-null    float64\n",
            " 3   State            108 non-null    object \n",
            " 4   Profit           108 non-null    float64\n",
            "dtypes: float64(4), object(1)\n",
            "memory usage: 4.3+ KB\n"
          ]
        }
      ]
    },
    {
      "cell_type": "code",
      "source": [
        "df.isnull().sum()"
      ],
      "metadata": {
        "colab": {
          "base_uri": "https://localhost:8080/"
        },
        "id": "U7suvii6l8LQ",
        "outputId": "efd28b65-a024-4bf3-95f1-7cf2e9e77588"
      },
      "execution_count": 4,
      "outputs": [
        {
          "output_type": "execute_result",
          "data": {
            "text/plain": [
              "R&D Spend          0\n",
              "Administration     0\n",
              "Marketing Spend    0\n",
              "State              0\n",
              "Profit             0\n",
              "dtype: int64"
            ]
          },
          "metadata": {},
          "execution_count": 4
        }
      ]
    },
    {
      "cell_type": "code",
      "source": [
        "df['State'].unique()"
      ],
      "metadata": {
        "colab": {
          "base_uri": "https://localhost:8080/"
        },
        "id": "tKPjsPtamSGP",
        "outputId": "e3e06ba2-0c14-49a2-b6de-264197de19eb"
      },
      "execution_count": 5,
      "outputs": [
        {
          "output_type": "execute_result",
          "data": {
            "text/plain": [
              "array(['New York', 'California', 'Florida'], dtype=object)"
            ]
          },
          "metadata": {},
          "execution_count": 5
        }
      ]
    },
    {
      "cell_type": "code",
      "source": [
        "from sklearn.preprocessing import LabelEncoder"
      ],
      "metadata": {
        "id": "66bgaHSBmaC-"
      },
      "execution_count": 6,
      "outputs": []
    },
    {
      "cell_type": "code",
      "source": [
        "le = LabelEncoder()"
      ],
      "metadata": {
        "id": "ibh6BdelnHXg"
      },
      "execution_count": 7,
      "outputs": []
    },
    {
      "cell_type": "code",
      "source": [
        "df['State'] = le.fit_transform(df['State'])"
      ],
      "metadata": {
        "id": "8pbo_PTlnLHi"
      },
      "execution_count": 8,
      "outputs": []
    },
    {
      "cell_type": "code",
      "source": [
        "df['State'].unique()"
      ],
      "metadata": {
        "colab": {
          "base_uri": "https://localhost:8080/"
        },
        "id": "8OekKZGNnPpP",
        "outputId": "1b8642a1-bde9-4127-80d8-56452c77db23"
      },
      "execution_count": 9,
      "outputs": [
        {
          "output_type": "execute_result",
          "data": {
            "text/plain": [
              "array([2, 0, 1])"
            ]
          },
          "metadata": {},
          "execution_count": 9
        }
      ]
    },
    {
      "cell_type": "code",
      "source": [
        "df.info()"
      ],
      "metadata": {
        "colab": {
          "base_uri": "https://localhost:8080/"
        },
        "id": "cY9C7Wj-nRL5",
        "outputId": "63c9f40a-18a7-47f3-8414-ac92097fda37"
      },
      "execution_count": 10,
      "outputs": [
        {
          "output_type": "stream",
          "name": "stdout",
          "text": [
            "<class 'pandas.core.frame.DataFrame'>\n",
            "RangeIndex: 108 entries, 0 to 107\n",
            "Data columns (total 5 columns):\n",
            " #   Column           Non-Null Count  Dtype  \n",
            "---  ------           --------------  -----  \n",
            " 0   R&D Spend        108 non-null    float64\n",
            " 1   Administration   108 non-null    float64\n",
            " 2   Marketing Spend  108 non-null    float64\n",
            " 3   State            108 non-null    int64  \n",
            " 4   Profit           108 non-null    float64\n",
            "dtypes: float64(4), int64(1)\n",
            "memory usage: 4.3 KB\n"
          ]
        }
      ]
    },
    {
      "cell_type": "code",
      "source": [
        "x = df.drop('Profit',axis=1)\n",
        "x.head()"
      ],
      "metadata": {
        "colab": {
          "base_uri": "https://localhost:8080/",
          "height": 206
        },
        "id": "csjV7JNcnffP",
        "outputId": "fb68d4d4-fb9f-4950-fde8-d7ebccd2ea9d"
      },
      "execution_count": 12,
      "outputs": [
        {
          "output_type": "execute_result",
          "data": {
            "text/plain": [
              "   R&D Spend  Administration  Marketing Spend  State\n",
              "0  165349.20       136897.80        471784.10      2\n",
              "1  162597.70       151377.59        443898.53      0\n",
              "2  153441.51       101145.55        407934.54      1\n",
              "3  144372.41       118671.85        383199.62      2\n",
              "4  142107.34        91391.77        366168.42      1"
            ],
            "text/html": [
              "\n",
              "  <div id=\"df-9366decd-02a8-42a4-bf83-07e5356b98c6\">\n",
              "    <div class=\"colab-df-container\">\n",
              "      <div>\n",
              "<style scoped>\n",
              "    .dataframe tbody tr th:only-of-type {\n",
              "        vertical-align: middle;\n",
              "    }\n",
              "\n",
              "    .dataframe tbody tr th {\n",
              "        vertical-align: top;\n",
              "    }\n",
              "\n",
              "    .dataframe thead th {\n",
              "        text-align: right;\n",
              "    }\n",
              "</style>\n",
              "<table border=\"1\" class=\"dataframe\">\n",
              "  <thead>\n",
              "    <tr style=\"text-align: right;\">\n",
              "      <th></th>\n",
              "      <th>R&amp;D Spend</th>\n",
              "      <th>Administration</th>\n",
              "      <th>Marketing Spend</th>\n",
              "      <th>State</th>\n",
              "    </tr>\n",
              "  </thead>\n",
              "  <tbody>\n",
              "    <tr>\n",
              "      <th>0</th>\n",
              "      <td>165349.20</td>\n",
              "      <td>136897.80</td>\n",
              "      <td>471784.10</td>\n",
              "      <td>2</td>\n",
              "    </tr>\n",
              "    <tr>\n",
              "      <th>1</th>\n",
              "      <td>162597.70</td>\n",
              "      <td>151377.59</td>\n",
              "      <td>443898.53</td>\n",
              "      <td>0</td>\n",
              "    </tr>\n",
              "    <tr>\n",
              "      <th>2</th>\n",
              "      <td>153441.51</td>\n",
              "      <td>101145.55</td>\n",
              "      <td>407934.54</td>\n",
              "      <td>1</td>\n",
              "    </tr>\n",
              "    <tr>\n",
              "      <th>3</th>\n",
              "      <td>144372.41</td>\n",
              "      <td>118671.85</td>\n",
              "      <td>383199.62</td>\n",
              "      <td>2</td>\n",
              "    </tr>\n",
              "    <tr>\n",
              "      <th>4</th>\n",
              "      <td>142107.34</td>\n",
              "      <td>91391.77</td>\n",
              "      <td>366168.42</td>\n",
              "      <td>1</td>\n",
              "    </tr>\n",
              "  </tbody>\n",
              "</table>\n",
              "</div>\n",
              "      <button class=\"colab-df-convert\" onclick=\"convertToInteractive('df-9366decd-02a8-42a4-bf83-07e5356b98c6')\"\n",
              "              title=\"Convert this dataframe to an interactive table.\"\n",
              "              style=\"display:none;\">\n",
              "        \n",
              "  <svg xmlns=\"http://www.w3.org/2000/svg\" height=\"24px\"viewBox=\"0 0 24 24\"\n",
              "       width=\"24px\">\n",
              "    <path d=\"M0 0h24v24H0V0z\" fill=\"none\"/>\n",
              "    <path d=\"M18.56 5.44l.94 2.06.94-2.06 2.06-.94-2.06-.94-.94-2.06-.94 2.06-2.06.94zm-11 1L8.5 8.5l.94-2.06 2.06-.94-2.06-.94L8.5 2.5l-.94 2.06-2.06.94zm10 10l.94 2.06.94-2.06 2.06-.94-2.06-.94-.94-2.06-.94 2.06-2.06.94z\"/><path d=\"M17.41 7.96l-1.37-1.37c-.4-.4-.92-.59-1.43-.59-.52 0-1.04.2-1.43.59L10.3 9.45l-7.72 7.72c-.78.78-.78 2.05 0 2.83L4 21.41c.39.39.9.59 1.41.59.51 0 1.02-.2 1.41-.59l7.78-7.78 2.81-2.81c.8-.78.8-2.07 0-2.86zM5.41 20L4 18.59l7.72-7.72 1.47 1.35L5.41 20z\"/>\n",
              "  </svg>\n",
              "      </button>\n",
              "      \n",
              "  <style>\n",
              "    .colab-df-container {\n",
              "      display:flex;\n",
              "      flex-wrap:wrap;\n",
              "      gap: 12px;\n",
              "    }\n",
              "\n",
              "    .colab-df-convert {\n",
              "      background-color: #E8F0FE;\n",
              "      border: none;\n",
              "      border-radius: 50%;\n",
              "      cursor: pointer;\n",
              "      display: none;\n",
              "      fill: #1967D2;\n",
              "      height: 32px;\n",
              "      padding: 0 0 0 0;\n",
              "      width: 32px;\n",
              "    }\n",
              "\n",
              "    .colab-df-convert:hover {\n",
              "      background-color: #E2EBFA;\n",
              "      box-shadow: 0px 1px 2px rgba(60, 64, 67, 0.3), 0px 1px 3px 1px rgba(60, 64, 67, 0.15);\n",
              "      fill: #174EA6;\n",
              "    }\n",
              "\n",
              "    [theme=dark] .colab-df-convert {\n",
              "      background-color: #3B4455;\n",
              "      fill: #D2E3FC;\n",
              "    }\n",
              "\n",
              "    [theme=dark] .colab-df-convert:hover {\n",
              "      background-color: #434B5C;\n",
              "      box-shadow: 0px 1px 3px 1px rgba(0, 0, 0, 0.15);\n",
              "      filter: drop-shadow(0px 1px 2px rgba(0, 0, 0, 0.3));\n",
              "      fill: #FFFFFF;\n",
              "    }\n",
              "  </style>\n",
              "\n",
              "      <script>\n",
              "        const buttonEl =\n",
              "          document.querySelector('#df-9366decd-02a8-42a4-bf83-07e5356b98c6 button.colab-df-convert');\n",
              "        buttonEl.style.display =\n",
              "          google.colab.kernel.accessAllowed ? 'block' : 'none';\n",
              "\n",
              "        async function convertToInteractive(key) {\n",
              "          const element = document.querySelector('#df-9366decd-02a8-42a4-bf83-07e5356b98c6');\n",
              "          const dataTable =\n",
              "            await google.colab.kernel.invokeFunction('convertToInteractive',\n",
              "                                                     [key], {});\n",
              "          if (!dataTable) return;\n",
              "\n",
              "          const docLinkHtml = 'Like what you see? Visit the ' +\n",
              "            '<a target=\"_blank\" href=https://colab.research.google.com/notebooks/data_table.ipynb>data table notebook</a>'\n",
              "            + ' to learn more about interactive tables.';\n",
              "          element.innerHTML = '';\n",
              "          dataTable['output_type'] = 'display_data';\n",
              "          await google.colab.output.renderOutput(dataTable, element);\n",
              "          const docLink = document.createElement('div');\n",
              "          docLink.innerHTML = docLinkHtml;\n",
              "          element.appendChild(docLink);\n",
              "        }\n",
              "      </script>\n",
              "    </div>\n",
              "  </div>\n",
              "  "
            ]
          },
          "metadata": {},
          "execution_count": 12
        }
      ]
    },
    {
      "cell_type": "code",
      "source": [
        "y = df['Profit']\n",
        "y"
      ],
      "metadata": {
        "colab": {
          "base_uri": "https://localhost:8080/"
        },
        "id": "SVZQBWOppfge",
        "outputId": "4789b99a-531b-449a-f2eb-b9cb65c9dcfa"
      },
      "execution_count": 13,
      "outputs": [
        {
          "output_type": "execute_result",
          "data": {
            "text/plain": [
              "0      192261.83\n",
              "1      191792.06\n",
              "2      191050.39\n",
              "3      182901.99\n",
              "4      166187.94\n",
              "         ...    \n",
              "103    132602.65\n",
              "104    129917.04\n",
              "105    126992.93\n",
              "106    125370.37\n",
              "107    124266.90\n",
              "Name: Profit, Length: 108, dtype: float64"
            ]
          },
          "metadata": {},
          "execution_count": 13
        }
      ]
    },
    {
      "cell_type": "code",
      "source": [
        "from sklearn.model_selection import train_test_split"
      ],
      "metadata": {
        "id": "srgI5t3Cpmpw"
      },
      "execution_count": 14,
      "outputs": []
    },
    {
      "cell_type": "code",
      "source": [
        "xtrain,xtest,ytrain,ytest = train_test_split(x,y,test_size=0.2,random_state=12)"
      ],
      "metadata": {
        "id": "IdGAfotFpvrS"
      },
      "execution_count": 15,
      "outputs": []
    },
    {
      "cell_type": "code",
      "source": [
        "from tensorflow.keras.models import Sequential\n",
        "from tensorflow.keras.layers import Dense"
      ],
      "metadata": {
        "id": "wwZ3ykQbqJ3w"
      },
      "execution_count": 18,
      "outputs": []
    },
    {
      "cell_type": "code",
      "source": [
        "reg = Sequential()\n",
        "reg.add(Dense(4,activation='relu'))\n",
        "reg.add(Dense(12,activation='relu'))\n",
        "reg.add(Dense(32,activation='relu'))\n",
        "reg.add(Dense(1,activation='linear'))"
      ],
      "metadata": {
        "id": "h_NVqH0nqLU4"
      },
      "execution_count": 19,
      "outputs": []
    },
    {
      "cell_type": "code",
      "source": [
        "reg.compile(optimizer='adam',loss='mse',metrics=['mse'])"
      ],
      "metadata": {
        "id": "-CjgRpNarVXu"
      },
      "execution_count": 20,
      "outputs": []
    },
    {
      "cell_type": "code",
      "source": [
        "reg.fit(xtrain,ytrain,batch_size=10,epochs=25,validation_data=(xtest,ytest))"
      ],
      "metadata": {
        "colab": {
          "base_uri": "https://localhost:8080/"
        },
        "id": "iPAI2KlgtbLh",
        "outputId": "381f2a17-d530-4df9-8e78-d5c7f98a3d03"
      },
      "execution_count": 21,
      "outputs": [
        {
          "output_type": "stream",
          "name": "stdout",
          "text": [
            "Epoch 1/25\n",
            "9/9 [==============================] - 2s 32ms/step - loss: 9257777152.0000 - mse: 9257778176.0000 - val_loss: 8446218752.0000 - val_mse: 8446218752.0000\n",
            "Epoch 2/25\n",
            "9/9 [==============================] - 0s 9ms/step - loss: 7399576576.0000 - mse: 7399576576.0000 - val_loss: 6424918528.0000 - val_mse: 6424918528.0000\n",
            "Epoch 3/25\n",
            "9/9 [==============================] - 0s 9ms/step - loss: 5508851200.0000 - mse: 5508851200.0000 - val_loss: 4487260160.0000 - val_mse: 4487260160.0000\n",
            "Epoch 4/25\n",
            "9/9 [==============================] - 0s 8ms/step - loss: 3695524352.0000 - mse: 3695524096.0000 - val_loss: 2791601920.0000 - val_mse: 2791601920.0000\n",
            "Epoch 5/25\n",
            "9/9 [==============================] - 0s 7ms/step - loss: 2226550272.0000 - mse: 2226550272.0000 - val_loss: 1474957824.0000 - val_mse: 1474957824.0000\n",
            "Epoch 6/25\n",
            "9/9 [==============================] - 0s 9ms/step - loss: 1076765312.0000 - mse: 1076765312.0000 - val_loss: 668232256.0000 - val_mse: 668232256.0000\n",
            "Epoch 7/25\n",
            "9/9 [==============================] - 0s 8ms/step - loss: 480759904.0000 - mse: 480759904.0000 - val_loss: 387864224.0000 - val_mse: 387864224.0000\n",
            "Epoch 8/25\n",
            "9/9 [==============================] - 0s 11ms/step - loss: 293543520.0000 - mse: 293543520.0000 - val_loss: 416528288.0000 - val_mse: 416528288.0000\n",
            "Epoch 9/25\n",
            "9/9 [==============================] - 0s 8ms/step - loss: 292716448.0000 - mse: 292716448.0000 - val_loss: 439090976.0000 - val_mse: 439090976.0000\n",
            "Epoch 10/25\n",
            "9/9 [==============================] - 0s 9ms/step - loss: 281932480.0000 - mse: 281932480.0000 - val_loss: 394920352.0000 - val_mse: 394920352.0000\n",
            "Epoch 11/25\n",
            "9/9 [==============================] - 0s 10ms/step - loss: 260798896.0000 - mse: 260798896.0000 - val_loss: 360881472.0000 - val_mse: 360881472.0000\n",
            "Epoch 12/25\n",
            "9/9 [==============================] - 0s 7ms/step - loss: 254258464.0000 - mse: 254258464.0000 - val_loss: 339696736.0000 - val_mse: 339696736.0000\n",
            "Epoch 13/25\n",
            "9/9 [==============================] - 0s 9ms/step - loss: 248184880.0000 - mse: 248184880.0000 - val_loss: 328172128.0000 - val_mse: 328172128.0000\n",
            "Epoch 14/25\n",
            "9/9 [==============================] - 0s 7ms/step - loss: 241791264.0000 - mse: 241791264.0000 - val_loss: 322197024.0000 - val_mse: 322197056.0000\n",
            "Epoch 15/25\n",
            "9/9 [==============================] - 0s 8ms/step - loss: 234529024.0000 - mse: 234529024.0000 - val_loss: 317716608.0000 - val_mse: 317716608.0000\n",
            "Epoch 16/25\n",
            "9/9 [==============================] - 0s 7ms/step - loss: 230670240.0000 - mse: 230670240.0000 - val_loss: 304318688.0000 - val_mse: 304318688.0000\n",
            "Epoch 17/25\n",
            "9/9 [==============================] - 0s 8ms/step - loss: 226422528.0000 - mse: 226422528.0000 - val_loss: 298879776.0000 - val_mse: 298879776.0000\n",
            "Epoch 18/25\n",
            "9/9 [==============================] - 0s 9ms/step - loss: 220070928.0000 - mse: 220070928.0000 - val_loss: 285738080.0000 - val_mse: 285738080.0000\n",
            "Epoch 19/25\n",
            "9/9 [==============================] - 0s 7ms/step - loss: 218503664.0000 - mse: 218503664.0000 - val_loss: 269471104.0000 - val_mse: 269471104.0000\n",
            "Epoch 20/25\n",
            "9/9 [==============================] - 0s 9ms/step - loss: 213175280.0000 - mse: 213175280.0000 - val_loss: 267761392.0000 - val_mse: 267761392.0000\n",
            "Epoch 21/25\n",
            "9/9 [==============================] - 0s 8ms/step - loss: 210360128.0000 - mse: 210360128.0000 - val_loss: 263566736.0000 - val_mse: 263566736.0000\n",
            "Epoch 22/25\n",
            "9/9 [==============================] - 0s 8ms/step - loss: 208335296.0000 - mse: 208335296.0000 - val_loss: 253359760.0000 - val_mse: 253359760.0000\n",
            "Epoch 23/25\n",
            "9/9 [==============================] - 0s 9ms/step - loss: 205702784.0000 - mse: 205702784.0000 - val_loss: 243307824.0000 - val_mse: 243307824.0000\n",
            "Epoch 24/25\n",
            "9/9 [==============================] - 0s 9ms/step - loss: 204498752.0000 - mse: 204498752.0000 - val_loss: 239219696.0000 - val_mse: 239219696.0000\n",
            "Epoch 25/25\n",
            "9/9 [==============================] - 0s 9ms/step - loss: 202670816.0000 - mse: 202670816.0000 - val_loss: 240104432.0000 - val_mse: 240104432.0000\n"
          ]
        },
        {
          "output_type": "execute_result",
          "data": {
            "text/plain": [
              "<keras.callbacks.History at 0x7f32a96e0df0>"
            ]
          },
          "metadata": {},
          "execution_count": 21
        }
      ]
    },
    {
      "cell_type": "code",
      "source": [
        "reg.predict([[123123,345345,2343241,2]])"
      ],
      "metadata": {
        "colab": {
          "base_uri": "https://localhost:8080/"
        },
        "id": "Ra50NRNstx-9",
        "outputId": "7d98fc41-01f2-4498-ca8c-7e06a378c8d7"
      },
      "execution_count": 22,
      "outputs": [
        {
          "output_type": "stream",
          "name": "stdout",
          "text": [
            "1/1 [==============================] - 0s 132ms/step\n"
          ]
        },
        {
          "output_type": "execute_result",
          "data": {
            "text/plain": [
              "array([[580483.56]], dtype=float32)"
            ]
          },
          "metadata": {},
          "execution_count": 22
        }
      ]
    },
    {
      "cell_type": "code",
      "source": [],
      "metadata": {
        "id": "CH1m20LruOz0"
      },
      "execution_count": null,
      "outputs": []
    }
  ]
}